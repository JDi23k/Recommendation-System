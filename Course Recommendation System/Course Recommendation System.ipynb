{
 "cells": [
  {
   "cell_type": "markdown",
   "id": "e3e5b3f1",
   "metadata": {},
   "source": [
    "### Dataset link: https://github.com/DataThinkers/Course-Recommender-System/blob/main/udemy_courses.csv"
   ]
  },
  {
   "cell_type": "markdown",
   "id": "8e32a40f",
   "metadata": {},
   "source": [
    "### Import the library"
   ]
  },
  {
   "cell_type": "code",
   "execution_count": 1,
   "id": "110c62fe",
   "metadata": {},
   "outputs": [],
   "source": [
    "import numpy as np\n",
    "import pandas as pd"
   ]
  },
  {
   "cell_type": "markdown",
   "id": "c07a8aa3",
   "metadata": {},
   "source": [
    "### Load the dataset"
   ]
  },
  {
   "cell_type": "code",
   "execution_count": 2,
   "id": "aaac7daa",
   "metadata": {},
   "outputs": [],
   "source": [
    "df = pd.read_csv('udemy_courses.csv')"
   ]
  },
  {
   "cell_type": "code",
   "execution_count": 3,
   "id": "9ca0f31f",
   "metadata": {},
   "outputs": [
    {
     "data": {
      "text/html": [
       "<div>\n",
       "<style scoped>\n",
       "    .dataframe tbody tr th:only-of-type {\n",
       "        vertical-align: middle;\n",
       "    }\n",
       "\n",
       "    .dataframe tbody tr th {\n",
       "        vertical-align: top;\n",
       "    }\n",
       "\n",
       "    .dataframe thead th {\n",
       "        text-align: right;\n",
       "    }\n",
       "</style>\n",
       "<table border=\"1\" class=\"dataframe\">\n",
       "  <thead>\n",
       "    <tr style=\"text-align: right;\">\n",
       "      <th></th>\n",
       "      <th>course_id</th>\n",
       "      <th>course_title</th>\n",
       "      <th>url</th>\n",
       "      <th>is_paid</th>\n",
       "      <th>price</th>\n",
       "      <th>num_subscribers</th>\n",
       "      <th>num_reviews</th>\n",
       "      <th>num_lectures</th>\n",
       "      <th>level</th>\n",
       "      <th>content_duration</th>\n",
       "      <th>published_timestamp</th>\n",
       "      <th>subject</th>\n",
       "    </tr>\n",
       "  </thead>\n",
       "  <tbody>\n",
       "    <tr>\n",
       "      <th>0</th>\n",
       "      <td>1070968</td>\n",
       "      <td>Ultimate Investment Banking Course</td>\n",
       "      <td>https://www.udemy.com/ultimate-investment-bank...</td>\n",
       "      <td>True</td>\n",
       "      <td>200</td>\n",
       "      <td>2147</td>\n",
       "      <td>23</td>\n",
       "      <td>51</td>\n",
       "      <td>All Levels</td>\n",
       "      <td>1.5</td>\n",
       "      <td>2017-01-18T20:58:58Z</td>\n",
       "      <td>Business Finance</td>\n",
       "    </tr>\n",
       "  </tbody>\n",
       "</table>\n",
       "</div>"
      ],
      "text/plain": [
       "   course_id                        course_title  \\\n",
       "0    1070968  Ultimate Investment Banking Course   \n",
       "\n",
       "                                                 url  is_paid  price  \\\n",
       "0  https://www.udemy.com/ultimate-investment-bank...     True    200   \n",
       "\n",
       "   num_subscribers  num_reviews  num_lectures       level  content_duration  \\\n",
       "0             2147           23            51  All Levels               1.5   \n",
       "\n",
       "    published_timestamp           subject  \n",
       "0  2017-01-18T20:58:58Z  Business Finance  "
      ]
     },
     "execution_count": 3,
     "metadata": {},
     "output_type": "execute_result"
    }
   ],
   "source": [
    "# first row of the dataframe\n",
    "df.head(1)"
   ]
  },
  {
   "cell_type": "code",
   "execution_count": 4,
   "id": "3e8d3e9b",
   "metadata": {},
   "outputs": [
    {
     "data": {
      "text/plain": [
       "(3678, 12)"
      ]
     },
     "execution_count": 4,
     "metadata": {},
     "output_type": "execute_result"
    }
   ],
   "source": [
    "# shape of the dataset\n",
    "df.shape"
   ]
  },
  {
   "cell_type": "code",
   "execution_count": 5,
   "id": "c698d513",
   "metadata": {},
   "outputs": [
    {
     "data": {
      "text/plain": [
       "course_id              0\n",
       "course_title           0\n",
       "url                    0\n",
       "is_paid                0\n",
       "price                  0\n",
       "num_subscribers        0\n",
       "num_reviews            0\n",
       "num_lectures           0\n",
       "level                  0\n",
       "content_duration       0\n",
       "published_timestamp    0\n",
       "subject                0\n",
       "dtype: int64"
      ]
     },
     "execution_count": 5,
     "metadata": {},
     "output_type": "execute_result"
    }
   ],
   "source": [
    "# checking for null values\n",
    "df.isnull().sum()"
   ]
  },
  {
   "cell_type": "code",
   "execution_count": 6,
   "id": "969d5691",
   "metadata": {},
   "outputs": [
    {
     "data": {
      "text/plain": [
       "True"
      ]
     },
     "execution_count": 6,
     "metadata": {},
     "output_type": "execute_result"
    }
   ],
   "source": [
    "# checking for duplicates\n",
    "df.duplicated().any()"
   ]
  },
  {
   "cell_type": "code",
   "execution_count": 7,
   "id": "57c2afdc",
   "metadata": {},
   "outputs": [
    {
     "data": {
      "text/html": [
       "<div>\n",
       "<style scoped>\n",
       "    .dataframe tbody tr th:only-of-type {\n",
       "        vertical-align: middle;\n",
       "    }\n",
       "\n",
       "    .dataframe tbody tr th {\n",
       "        vertical-align: top;\n",
       "    }\n",
       "\n",
       "    .dataframe thead th {\n",
       "        text-align: right;\n",
       "    }\n",
       "</style>\n",
       "<table border=\"1\" class=\"dataframe\">\n",
       "  <thead>\n",
       "    <tr style=\"text-align: right;\">\n",
       "      <th></th>\n",
       "      <th>course_id</th>\n",
       "      <th>course_title</th>\n",
       "      <th>url</th>\n",
       "      <th>is_paid</th>\n",
       "      <th>price</th>\n",
       "      <th>num_subscribers</th>\n",
       "      <th>num_reviews</th>\n",
       "      <th>num_lectures</th>\n",
       "      <th>level</th>\n",
       "      <th>content_duration</th>\n",
       "      <th>published_timestamp</th>\n",
       "      <th>subject</th>\n",
       "    </tr>\n",
       "  </thead>\n",
       "  <tbody>\n",
       "    <tr>\n",
       "      <th>787</th>\n",
       "      <td>837322</td>\n",
       "      <td>Essentials of money value: Get a financial Life !</td>\n",
       "      <td>https://www.udemy.com/essentials-of-money-value/</td>\n",
       "      <td>True</td>\n",
       "      <td>20</td>\n",
       "      <td>0</td>\n",
       "      <td>0</td>\n",
       "      <td>20</td>\n",
       "      <td>All Levels</td>\n",
       "      <td>0.616667</td>\n",
       "      <td>2016-05-16T18:28:30Z</td>\n",
       "      <td>Business Finance</td>\n",
       "    </tr>\n",
       "    <tr>\n",
       "      <th>788</th>\n",
       "      <td>1157298</td>\n",
       "      <td>Introduction to Forex Trading Business For Beg...</td>\n",
       "      <td>https://www.udemy.com/introduction-to-forex-tr...</td>\n",
       "      <td>True</td>\n",
       "      <td>20</td>\n",
       "      <td>0</td>\n",
       "      <td>0</td>\n",
       "      <td>27</td>\n",
       "      <td>Beginner Level</td>\n",
       "      <td>1.500000</td>\n",
       "      <td>2017-04-23T16:19:01Z</td>\n",
       "      <td>Business Finance</td>\n",
       "    </tr>\n",
       "    <tr>\n",
       "      <th>894</th>\n",
       "      <td>1035638</td>\n",
       "      <td>Understanding Financial Statements</td>\n",
       "      <td>https://www.udemy.com/understanding-financial-...</td>\n",
       "      <td>True</td>\n",
       "      <td>25</td>\n",
       "      <td>0</td>\n",
       "      <td>0</td>\n",
       "      <td>10</td>\n",
       "      <td>All Levels</td>\n",
       "      <td>1.000000</td>\n",
       "      <td>2016-12-15T14:56:17Z</td>\n",
       "      <td>Business Finance</td>\n",
       "    </tr>\n",
       "    <tr>\n",
       "      <th>1100</th>\n",
       "      <td>1084454</td>\n",
       "      <td>CFA Level 2- Quantitative Methods</td>\n",
       "      <td>https://www.udemy.com/cfa-level-2-quantitative...</td>\n",
       "      <td>True</td>\n",
       "      <td>40</td>\n",
       "      <td>0</td>\n",
       "      <td>0</td>\n",
       "      <td>35</td>\n",
       "      <td>All Levels</td>\n",
       "      <td>5.500000</td>\n",
       "      <td>2017-07-02T14:29:35Z</td>\n",
       "      <td>Business Finance</td>\n",
       "    </tr>\n",
       "    <tr>\n",
       "      <th>1473</th>\n",
       "      <td>185526</td>\n",
       "      <td>MicroStation - Células</td>\n",
       "      <td>https://www.udemy.com/microstation-celulas/</td>\n",
       "      <td>True</td>\n",
       "      <td>20</td>\n",
       "      <td>0</td>\n",
       "      <td>0</td>\n",
       "      <td>9</td>\n",
       "      <td>Beginner Level</td>\n",
       "      <td>0.616667</td>\n",
       "      <td>2014-04-15T21:48:55Z</td>\n",
       "      <td>Graphic Design</td>\n",
       "    </tr>\n",
       "    <tr>\n",
       "      <th>2561</th>\n",
       "      <td>28295</td>\n",
       "      <td>Learn Web Designing &amp; HTML5/CSS3 Essentials in...</td>\n",
       "      <td>https://www.udemy.com/build-beautiful-html5-we...</td>\n",
       "      <td>True</td>\n",
       "      <td>75</td>\n",
       "      <td>43285</td>\n",
       "      <td>525</td>\n",
       "      <td>24</td>\n",
       "      <td>All Levels</td>\n",
       "      <td>4.000000</td>\n",
       "      <td>2013-01-03T00:55:31Z</td>\n",
       "      <td>Web Development</td>\n",
       "    </tr>\n",
       "  </tbody>\n",
       "</table>\n",
       "</div>"
      ],
      "text/plain": [
       "      course_id                                       course_title  \\\n",
       "787      837322  Essentials of money value: Get a financial Life !   \n",
       "788     1157298  Introduction to Forex Trading Business For Beg...   \n",
       "894     1035638                 Understanding Financial Statements   \n",
       "1100    1084454                  CFA Level 2- Quantitative Methods   \n",
       "1473     185526                             MicroStation - Células   \n",
       "2561      28295  Learn Web Designing & HTML5/CSS3 Essentials in...   \n",
       "\n",
       "                                                    url  is_paid  price  \\\n",
       "787    https://www.udemy.com/essentials-of-money-value/     True     20   \n",
       "788   https://www.udemy.com/introduction-to-forex-tr...     True     20   \n",
       "894   https://www.udemy.com/understanding-financial-...     True     25   \n",
       "1100  https://www.udemy.com/cfa-level-2-quantitative...     True     40   \n",
       "1473        https://www.udemy.com/microstation-celulas/     True     20   \n",
       "2561  https://www.udemy.com/build-beautiful-html5-we...     True     75   \n",
       "\n",
       "      num_subscribers  num_reviews  num_lectures           level  \\\n",
       "787                 0            0            20      All Levels   \n",
       "788                 0            0            27  Beginner Level   \n",
       "894                 0            0            10      All Levels   \n",
       "1100                0            0            35      All Levels   \n",
       "1473                0            0             9  Beginner Level   \n",
       "2561            43285          525            24      All Levels   \n",
       "\n",
       "      content_duration   published_timestamp           subject  \n",
       "787           0.616667  2016-05-16T18:28:30Z  Business Finance  \n",
       "788           1.500000  2017-04-23T16:19:01Z  Business Finance  \n",
       "894           1.000000  2016-12-15T14:56:17Z  Business Finance  \n",
       "1100          5.500000  2017-07-02T14:29:35Z  Business Finance  \n",
       "1473          0.616667  2014-04-15T21:48:55Z    Graphic Design  \n",
       "2561          4.000000  2013-01-03T00:55:31Z   Web Development  "
      ]
     },
     "execution_count": 7,
     "metadata": {},
     "output_type": "execute_result"
    }
   ],
   "source": [
    "# duplicates\n",
    "df[df.duplicated()]"
   ]
  },
  {
   "cell_type": "code",
   "execution_count": 8,
   "id": "0ebaab8a",
   "metadata": {},
   "outputs": [],
   "source": [
    "# dropping the duplicates\n",
    "df = df.drop_duplicates()"
   ]
  },
  {
   "cell_type": "code",
   "execution_count": 9,
   "id": "49a2ac59",
   "metadata": {},
   "outputs": [
    {
     "data": {
      "text/plain": [
       "(3672, 12)"
      ]
     },
     "execution_count": 9,
     "metadata": {},
     "output_type": "execute_result"
    }
   ],
   "source": [
    "# checking for shape after dropping the duplicates\n",
    "df.shape"
   ]
  },
  {
   "cell_type": "markdown",
   "id": "4151ded0",
   "metadata": {},
   "source": [
    "### Popularity Based Recommendation System"
   ]
  },
  {
   "cell_type": "code",
   "execution_count": 10,
   "id": "050b9bda",
   "metadata": {},
   "outputs": [],
   "source": [
    "def popularity_based_recommendation(data,top_n=5):\n",
    "    \n",
    "    # Calculate popularity score for each course\n",
    "    df['popularity_score'] = 0.6 * df['num_subscribers'] + 0.4 * df['num_reviews']\n",
    "    \n",
    "    # Sort courses by popularity score in descending order\n",
    "    df_sorted = df.sort_values(by='popularity_score', ascending=False)\n",
    "    \n",
    "    # Return the recommended courses (course titles and popularity scores)\n",
    "    recommended_courses = df_sorted[['course_title', 'popularity_score']].head(top_n)\n",
    "    \n",
    "    return recommended_courses"
   ]
  },
  {
   "cell_type": "code",
   "execution_count": 11,
   "id": "f7663b9e",
   "metadata": {},
   "outputs": [
    {
     "data": {
      "text/html": [
       "<div>\n",
       "<style scoped>\n",
       "    .dataframe tbody tr th:only-of-type {\n",
       "        vertical-align: middle;\n",
       "    }\n",
       "\n",
       "    .dataframe tbody tr th {\n",
       "        vertical-align: top;\n",
       "    }\n",
       "\n",
       "    .dataframe thead th {\n",
       "        text-align: right;\n",
       "    }\n",
       "</style>\n",
       "<table border=\"1\" class=\"dataframe\">\n",
       "  <thead>\n",
       "    <tr style=\"text-align: right;\">\n",
       "      <th></th>\n",
       "      <th>course_title</th>\n",
       "      <th>popularity_score</th>\n",
       "    </tr>\n",
       "  </thead>\n",
       "  <tbody>\n",
       "    <tr>\n",
       "      <th>2827</th>\n",
       "      <td>Learn HTML5 Programming From Scratch</td>\n",
       "      <td>164805.4</td>\n",
       "    </tr>\n",
       "    <tr>\n",
       "      <th>3032</th>\n",
       "      <td>Coding for Entrepreneurs Basic</td>\n",
       "      <td>96729.0</td>\n",
       "    </tr>\n",
       "    <tr>\n",
       "      <th>3230</th>\n",
       "      <td>The Web Developer Bootcamp</td>\n",
       "      <td>83928.4</td>\n",
       "    </tr>\n",
       "    <tr>\n",
       "      <th>3232</th>\n",
       "      <td>The Complete Web Developer Course 2.0</td>\n",
       "      <td>77672.0</td>\n",
       "    </tr>\n",
       "    <tr>\n",
       "      <th>2783</th>\n",
       "      <td>Build Your First Website in 1 Week with HTML5 ...</td>\n",
       "      <td>74544.2</td>\n",
       "    </tr>\n",
       "  </tbody>\n",
       "</table>\n",
       "</div>"
      ],
      "text/plain": [
       "                                           course_title  popularity_score\n",
       "2827               Learn HTML5 Programming From Scratch          164805.4\n",
       "3032                     Coding for Entrepreneurs Basic           96729.0\n",
       "3230                         The Web Developer Bootcamp           83928.4\n",
       "3232              The Complete Web Developer Course 2.0           77672.0\n",
       "2783  Build Your First Website in 1 Week with HTML5 ...           74544.2"
      ]
     },
     "execution_count": 11,
     "metadata": {},
     "output_type": "execute_result"
    }
   ],
   "source": [
    "popularity_based_recommendation(df)"
   ]
  },
  {
   "cell_type": "markdown",
   "id": "b51d0f70",
   "metadata": {},
   "source": [
    "### Content Based Recommendation System"
   ]
  },
  {
   "cell_type": "code",
   "execution_count": 12,
   "id": "246a174e",
   "metadata": {},
   "outputs": [],
   "source": [
    "import neattext.functions as nfx"
   ]
  },
  {
   "cell_type": "code",
   "execution_count": 13,
   "id": "9b419603",
   "metadata": {},
   "outputs": [
    {
     "data": {
      "text/plain": [
       "0                   Ultimate Investment Banking Course\n",
       "1    Complete GST Course & Certification - Grow You...\n",
       "2    Financial Modeling for Business Analysts and C...\n",
       "3    Beginner to Pro - Financial Analysis in Excel ...\n",
       "4         How To Maximize Your Profits Trading Options\n",
       "Name: course_title, dtype: object"
      ]
     },
     "execution_count": 13,
     "metadata": {},
     "output_type": "execute_result"
    }
   ],
   "source": [
    "df['course_title'].head()"
   ]
  },
  {
   "cell_type": "code",
   "execution_count": 14,
   "id": "4fa971a8",
   "metadata": {},
   "outputs": [],
   "source": [
    "# removing the stopwords and special characters\n",
    "df['course_title'] = df['course_title'].apply(nfx.remove_stopwords)\n",
    "df['course_title'] = df['course_title'].apply(nfx.remove_special_characters)"
   ]
  },
  {
   "cell_type": "code",
   "execution_count": 15,
   "id": "5f71d568",
   "metadata": {},
   "outputs": [
    {
     "data": {
      "text/plain": [
       "0                   Ultimate Investment Banking Course\n",
       "1    Complete GST Course  Certification  Grow Practice\n",
       "2     Financial Modeling Business Analysts Consultants\n",
       "3          Beginner Pro  Financial Analysis Excel 2017\n",
       "4                     Maximize Profits Trading Options\n",
       "Name: course_title, dtype: object"
      ]
     },
     "execution_count": 15,
     "metadata": {},
     "output_type": "execute_result"
    }
   ],
   "source": [
    "df['course_title'].head()"
   ]
  },
  {
   "cell_type": "code",
   "execution_count": 16,
   "id": "fea64e7b",
   "metadata": {},
   "outputs": [],
   "source": [
    "# combining two features\n",
    "df['title_subject'] = df['course_title'] +' '+df['subject']"
   ]
  },
  {
   "cell_type": "code",
   "execution_count": 17,
   "id": "1630bda3",
   "metadata": {},
   "outputs": [],
   "source": [
    "from sklearn.feature_extraction.text import CountVectorizer"
   ]
  },
  {
   "cell_type": "code",
   "execution_count": 18,
   "id": "b913421c",
   "metadata": {},
   "outputs": [],
   "source": [
    "cv = CountVectorizer(max_features=3000)\n",
    "vectors = cv.fit_transform(df['title_subject']).toarray()"
   ]
  },
  {
   "cell_type": "code",
   "execution_count": 19,
   "id": "c94842e9",
   "metadata": {},
   "outputs": [
    {
     "data": {
      "text/plain": [
       "array([[0, 0, 0, ..., 0, 0, 0],\n",
       "       [0, 0, 0, ..., 0, 0, 0],\n",
       "       [0, 0, 0, ..., 0, 0, 0],\n",
       "       ...,\n",
       "       [0, 0, 0, ..., 0, 0, 0],\n",
       "       [0, 0, 0, ..., 0, 0, 0],\n",
       "       [0, 0, 0, ..., 0, 0, 0]], dtype=int64)"
      ]
     },
     "execution_count": 19,
     "metadata": {},
     "output_type": "execute_result"
    }
   ],
   "source": [
    "vectors"
   ]
  },
  {
   "cell_type": "code",
   "execution_count": 20,
   "id": "5e24dc0d",
   "metadata": {},
   "outputs": [
    {
     "data": {
      "text/plain": [
       "(3672, 3000)"
      ]
     },
     "execution_count": 20,
     "metadata": {},
     "output_type": "execute_result"
    }
   ],
   "source": [
    "# shape of the vectors\n",
    "vectors.shape"
   ]
  },
  {
   "cell_type": "code",
   "execution_count": 21,
   "id": "428d2167",
   "metadata": {},
   "outputs": [
    {
     "data": {
      "text/plain": [
       "3000"
      ]
     },
     "execution_count": 21,
     "metadata": {},
     "output_type": "execute_result"
    }
   ],
   "source": [
    "# count of the selected features\n",
    "len(cv.get_feature_names_out())"
   ]
  },
  {
   "cell_type": "markdown",
   "id": "eaafc96a",
   "metadata": {},
   "source": [
    "#### Cosine Similarity"
   ]
  },
  {
   "cell_type": "code",
   "execution_count": 22,
   "id": "a38298de",
   "metadata": {},
   "outputs": [],
   "source": [
    "from sklearn.metrics.pairwise import cosine_similarity"
   ]
  },
  {
   "cell_type": "code",
   "execution_count": 23,
   "id": "b7a337b9",
   "metadata": {},
   "outputs": [],
   "source": [
    "similarity = cosine_similarity(vectors)"
   ]
  },
  {
   "cell_type": "code",
   "execution_count": 24,
   "id": "ab75935d",
   "metadata": {},
   "outputs": [
    {
     "data": {
      "text/plain": [
       "[(39, 0.7715167498104596),\n",
       " (240, 0.6666666666666669),\n",
       " (417, 0.6666666666666669),\n",
       " (418, 0.6172133998483676),\n",
       " (657, 0.6172133998483676)]"
      ]
     },
     "execution_count": 24,
     "metadata": {},
     "output_type": "execute_result"
    }
   ],
   "source": [
    "sorted(list(enumerate(similarity[0])),reverse=True,key=lambda x:x[1])[1:6]"
   ]
  },
  {
   "cell_type": "code",
   "execution_count": 25,
   "id": "89896578",
   "metadata": {},
   "outputs": [],
   "source": [
    "def recommend(course):\n",
    "    # let's featch the index\n",
    "    course_index = df[df['course_title']==course].index[0]\n",
    "    distances = similarity[course_index]\n",
    "    courses_list = sorted(list(enumerate(distances)),reverse=True,key=lambda x:x[1])[1:6]\n",
    "    for i in courses_list:\n",
    "        print(df.iloc[i[0]]['course_title'])"
   ]
  },
  {
   "cell_type": "code",
   "execution_count": 26,
   "id": "40024806",
   "metadata": {},
   "outputs": [
    {
     "name": "stdout",
     "output_type": "stream",
     "text": [
      "WordPress Development Beginners\n",
      "Wordpress Theme Development Beginners\n",
      "Wordpress beginners Build Websites Fast Coding\n",
      "Website Coding WordPress  Web Skills\n",
      "Kids Coding  Beginners CSS\n"
     ]
    }
   ],
   "source": [
    "recommend(\"know HTML Learn HTML Basics\")"
   ]
  },
  {
   "cell_type": "code",
   "execution_count": null,
   "id": "aa8bef7e",
   "metadata": {},
   "outputs": [],
   "source": []
  }
 ],
 "metadata": {
  "kernelspec": {
   "display_name": "Python 3 (ipykernel)",
   "language": "python",
   "name": "python3"
  },
  "language_info": {
   "codemirror_mode": {
    "name": "ipython",
    "version": 3
   },
   "file_extension": ".py",
   "mimetype": "text/x-python",
   "name": "python",
   "nbconvert_exporter": "python",
   "pygments_lexer": "ipython3",
   "version": "3.11.4"
  }
 },
 "nbformat": 4,
 "nbformat_minor": 5
}
